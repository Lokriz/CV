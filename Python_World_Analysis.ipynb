{
 "cells": [
  {
   "cell_type": "markdown",
   "id": "0c5bd57e",
   "metadata": {},
   "source": [
    "Ссылка на данные: https://www.kaggle.com/fernandol/countries-of-the-world"
   ]
  },
  {
   "cell_type": "code",
   "execution_count": 1,
   "id": "8e879ec8",
   "metadata": {},
   "outputs": [],
   "source": [
    "import pandas as pd\n",
    "import matplotlib.pyplot as plt"
   ]
  },
  {
   "cell_type": "code",
   "execution_count": 2,
   "id": "301f5efc",
   "metadata": {},
   "outputs": [],
   "source": [
    "name = 'countries of the world.csv'"
   ]
  },
  {
   "cell_type": "code",
   "execution_count": 3,
   "id": "f676eb05",
   "metadata": {},
   "outputs": [
    {
     "data": {
      "text/html": [
       "<div>\n",
       "<style scoped>\n",
       "    .dataframe tbody tr th:only-of-type {\n",
       "        vertical-align: middle;\n",
       "    }\n",
       "\n",
       "    .dataframe tbody tr th {\n",
       "        vertical-align: top;\n",
       "    }\n",
       "\n",
       "    .dataframe thead th {\n",
       "        text-align: right;\n",
       "    }\n",
       "</style>\n",
       "<table border=\"1\" class=\"dataframe\">\n",
       "  <thead>\n",
       "    <tr style=\"text-align: right;\">\n",
       "      <th></th>\n",
       "      <th>Country</th>\n",
       "      <th>Region</th>\n",
       "      <th>Population</th>\n",
       "      <th>Area (sq. mi.)</th>\n",
       "      <th>Pop. Density (per sq. mi.)</th>\n",
       "      <th>Coastline (coast/area ratio)</th>\n",
       "      <th>Net migration</th>\n",
       "      <th>Infant mortality (per 1000 births)</th>\n",
       "      <th>GDP ($ per capita)</th>\n",
       "      <th>Literacy (%)</th>\n",
       "      <th>Phones (per 1000)</th>\n",
       "      <th>Arable (%)</th>\n",
       "      <th>Crops (%)</th>\n",
       "      <th>Other (%)</th>\n",
       "      <th>Climate</th>\n",
       "      <th>Birthrate</th>\n",
       "      <th>Deathrate</th>\n",
       "      <th>Agriculture</th>\n",
       "      <th>Industry</th>\n",
       "      <th>Service</th>\n",
       "    </tr>\n",
       "  </thead>\n",
       "  <tbody>\n",
       "    <tr>\n",
       "      <th>0</th>\n",
       "      <td>Afghanistan</td>\n",
       "      <td>ASIA (EX. NEAR EAST)</td>\n",
       "      <td>31056997</td>\n",
       "      <td>647500</td>\n",
       "      <td>48,0</td>\n",
       "      <td>0,00</td>\n",
       "      <td>23,06</td>\n",
       "      <td>163,07</td>\n",
       "      <td>700.0</td>\n",
       "      <td>36,0</td>\n",
       "      <td>3,2</td>\n",
       "      <td>12,13</td>\n",
       "      <td>0,22</td>\n",
       "      <td>87,65</td>\n",
       "      <td>1</td>\n",
       "      <td>46,6</td>\n",
       "      <td>20,34</td>\n",
       "      <td>0,38</td>\n",
       "      <td>0,24</td>\n",
       "      <td>0,38</td>\n",
       "    </tr>\n",
       "    <tr>\n",
       "      <th>1</th>\n",
       "      <td>Albania</td>\n",
       "      <td>EASTERN EUROPE</td>\n",
       "      <td>3581655</td>\n",
       "      <td>28748</td>\n",
       "      <td>124,6</td>\n",
       "      <td>1,26</td>\n",
       "      <td>-4,93</td>\n",
       "      <td>21,52</td>\n",
       "      <td>4500.0</td>\n",
       "      <td>86,5</td>\n",
       "      <td>71,2</td>\n",
       "      <td>21,09</td>\n",
       "      <td>4,42</td>\n",
       "      <td>74,49</td>\n",
       "      <td>3</td>\n",
       "      <td>15,11</td>\n",
       "      <td>5,22</td>\n",
       "      <td>0,232</td>\n",
       "      <td>0,188</td>\n",
       "      <td>0,579</td>\n",
       "    </tr>\n",
       "    <tr>\n",
       "      <th>2</th>\n",
       "      <td>Algeria</td>\n",
       "      <td>NORTHERN AFRICA</td>\n",
       "      <td>32930091</td>\n",
       "      <td>2381740</td>\n",
       "      <td>13,8</td>\n",
       "      <td>0,04</td>\n",
       "      <td>-0,39</td>\n",
       "      <td>31</td>\n",
       "      <td>6000.0</td>\n",
       "      <td>70,0</td>\n",
       "      <td>78,1</td>\n",
       "      <td>3,22</td>\n",
       "      <td>0,25</td>\n",
       "      <td>96,53</td>\n",
       "      <td>1</td>\n",
       "      <td>17,14</td>\n",
       "      <td>4,61</td>\n",
       "      <td>0,101</td>\n",
       "      <td>0,6</td>\n",
       "      <td>0,298</td>\n",
       "    </tr>\n",
       "    <tr>\n",
       "      <th>3</th>\n",
       "      <td>American Samoa</td>\n",
       "      <td>OCEANIA</td>\n",
       "      <td>57794</td>\n",
       "      <td>199</td>\n",
       "      <td>290,4</td>\n",
       "      <td>58,29</td>\n",
       "      <td>-20,71</td>\n",
       "      <td>9,27</td>\n",
       "      <td>8000.0</td>\n",
       "      <td>97,0</td>\n",
       "      <td>259,5</td>\n",
       "      <td>10</td>\n",
       "      <td>15</td>\n",
       "      <td>75</td>\n",
       "      <td>2</td>\n",
       "      <td>22,46</td>\n",
       "      <td>3,27</td>\n",
       "      <td>NaN</td>\n",
       "      <td>NaN</td>\n",
       "      <td>NaN</td>\n",
       "    </tr>\n",
       "    <tr>\n",
       "      <th>4</th>\n",
       "      <td>Andorra</td>\n",
       "      <td>WESTERN EUROPE</td>\n",
       "      <td>71201</td>\n",
       "      <td>468</td>\n",
       "      <td>152,1</td>\n",
       "      <td>0,00</td>\n",
       "      <td>6,6</td>\n",
       "      <td>4,05</td>\n",
       "      <td>19000.0</td>\n",
       "      <td>100,0</td>\n",
       "      <td>497,2</td>\n",
       "      <td>2,22</td>\n",
       "      <td>0</td>\n",
       "      <td>97,78</td>\n",
       "      <td>3</td>\n",
       "      <td>8,71</td>\n",
       "      <td>6,25</td>\n",
       "      <td>NaN</td>\n",
       "      <td>NaN</td>\n",
       "      <td>NaN</td>\n",
       "    </tr>\n",
       "  </tbody>\n",
       "</table>\n",
       "</div>"
      ],
      "text/plain": [
       "           Country                               Region  Population  \\\n",
       "0     Afghanistan         ASIA (EX. NEAR EAST)             31056997   \n",
       "1         Albania   EASTERN EUROPE                          3581655   \n",
       "2         Algeria   NORTHERN AFRICA                        32930091   \n",
       "3  American Samoa   OCEANIA                                   57794   \n",
       "4         Andorra   WESTERN EUROPE                            71201   \n",
       "\n",
       "   Area (sq. mi.) Pop. Density (per sq. mi.) Coastline (coast/area ratio)  \\\n",
       "0          647500                       48,0                         0,00   \n",
       "1           28748                      124,6                         1,26   \n",
       "2         2381740                       13,8                         0,04   \n",
       "3             199                      290,4                        58,29   \n",
       "4             468                      152,1                         0,00   \n",
       "\n",
       "  Net migration Infant mortality (per 1000 births)  GDP ($ per capita)  \\\n",
       "0         23,06                             163,07               700.0   \n",
       "1         -4,93                              21,52              4500.0   \n",
       "2         -0,39                                 31              6000.0   \n",
       "3        -20,71                               9,27              8000.0   \n",
       "4           6,6                               4,05             19000.0   \n",
       "\n",
       "  Literacy (%) Phones (per 1000) Arable (%) Crops (%) Other (%) Climate  \\\n",
       "0         36,0               3,2      12,13      0,22     87,65       1   \n",
       "1         86,5              71,2      21,09      4,42     74,49       3   \n",
       "2         70,0              78,1       3,22      0,25     96,53       1   \n",
       "3         97,0             259,5         10        15        75       2   \n",
       "4        100,0             497,2       2,22         0     97,78       3   \n",
       "\n",
       "  Birthrate Deathrate Agriculture Industry Service  \n",
       "0      46,6     20,34        0,38     0,24    0,38  \n",
       "1     15,11      5,22       0,232    0,188   0,579  \n",
       "2     17,14      4,61       0,101      0,6   0,298  \n",
       "3     22,46      3,27         NaN      NaN     NaN  \n",
       "4      8,71      6,25         NaN      NaN     NaN  "
      ]
     },
     "execution_count": 3,
     "metadata": {},
     "output_type": "execute_result"
    }
   ],
   "source": [
    "wrld_table = pd.read_csv(name)\n",
    "wrld_table.head()"
   ]
  },
  {
   "cell_type": "code",
   "execution_count": 4,
   "id": "7a459f10",
   "metadata": {},
   "outputs": [
    {
     "name": "stdout",
     "output_type": "stream",
     "text": [
      "227\n",
      "179\n"
     ]
    },
    {
     "data": {
      "text/plain": [
       "0                                Country\n",
       "1                                 Region\n",
       "2                             Population\n",
       "3                         Area (sq. mi.)\n",
       "4             Pop. Density (per sq. mi.)\n",
       "5           Coastline (coast/area ratio)\n",
       "6                          Net migration\n",
       "7     Infant mortality (per 1000 births)\n",
       "8                     GDP ($ per capita)\n",
       "9                           Literacy (%)\n",
       "10                     Phones (per 1000)\n",
       "11                            Arable (%)\n",
       "12                             Crops (%)\n",
       "13                             Other (%)\n",
       "14                               Climate\n",
       "15                             Birthrate\n",
       "16                             Deathrate\n",
       "17                           Agriculture\n",
       "18                              Industry\n",
       "19                               Service\n",
       "dtype: object"
      ]
     },
     "execution_count": 4,
     "metadata": {},
     "output_type": "execute_result"
    }
   ],
   "source": [
    "# Проверил наличие NaNов и проверил соответствие порядковых \n",
    "# индексов названиям столбцов\n",
    "\n",
    "print(wrld_table.index.size)\n",
    "wrld = wrld_table.dropna().reindex()\n",
    "print(wrld.index.size)\n",
    "pd.Series(data = wrld_table.columns)"
   ]
  },
  {
   "cell_type": "code",
   "execution_count": null,
   "id": "dedca6a6",
   "metadata": {},
   "outputs": [],
   "source": []
  },
  {
   "cell_type": "markdown",
   "id": "df83fa70",
   "metadata": {},
   "source": [
    "### 1. Посчитать медианное значение площади стран Океании."
   ]
  },
  {
   "cell_type": "code",
   "execution_count": 5,
   "id": "423370ca",
   "metadata": {},
   "outputs": [
    {
     "name": "stdout",
     "output_type": "stream",
     "text": [
      "False\n",
      "227\n",
      "['ASIA (EX. NEAR EAST)         ' 'EASTERN EUROPE                     '\n",
      " 'NORTHERN AFRICA                    '\n",
      " 'OCEANIA                            '\n",
      " 'WESTERN EUROPE                     '\n",
      " 'SUB-SAHARAN AFRICA                 ' 'LATIN AMER. & CARIB    '\n",
      " 'C.W. OF IND. STATES ' 'NEAR EAST                          '\n",
      " 'NORTHERN AMERICA                   '\n",
      " 'BALTICS                            ']\n"
     ]
    },
    {
     "data": {
      "text/html": [
       "<div>\n",
       "<style scoped>\n",
       "    .dataframe tbody tr th:only-of-type {\n",
       "        vertical-align: middle;\n",
       "    }\n",
       "\n",
       "    .dataframe tbody tr th {\n",
       "        vertical-align: top;\n",
       "    }\n",
       "\n",
       "    .dataframe thead th {\n",
       "        text-align: right;\n",
       "    }\n",
       "</style>\n",
       "<table border=\"1\" class=\"dataframe\">\n",
       "  <thead>\n",
       "    <tr style=\"text-align: right;\">\n",
       "      <th></th>\n",
       "      <th>Region</th>\n",
       "      <th>Area</th>\n",
       "    </tr>\n",
       "  </thead>\n",
       "  <tbody>\n",
       "    <tr>\n",
       "      <th>0</th>\n",
       "      <td>ASIA (EX. NEAR EAST)</td>\n",
       "      <td>647500</td>\n",
       "    </tr>\n",
       "    <tr>\n",
       "      <th>1</th>\n",
       "      <td>EASTERN EUROPE</td>\n",
       "      <td>28748</td>\n",
       "    </tr>\n",
       "    <tr>\n",
       "      <th>2</th>\n",
       "      <td>NORTHERN AFRICA</td>\n",
       "      <td>2381740</td>\n",
       "    </tr>\n",
       "    <tr>\n",
       "      <th>3</th>\n",
       "      <td>OCEANIA</td>\n",
       "      <td>199</td>\n",
       "    </tr>\n",
       "    <tr>\n",
       "      <th>4</th>\n",
       "      <td>WESTERN EUROPE</td>\n",
       "      <td>468</td>\n",
       "    </tr>\n",
       "  </tbody>\n",
       "</table>\n",
       "</div>"
      ],
      "text/plain": [
       "                                Region     Area\n",
       "0        ASIA (EX. NEAR EAST)            647500\n",
       "1  EASTERN EUROPE                         28748\n",
       "2  NORTHERN AFRICA                      2381740\n",
       "3  OCEANIA                                  199\n",
       "4  WESTERN EUROPE                           468"
      ]
     },
     "execution_count": 5,
     "metadata": {},
     "output_type": "execute_result"
    }
   ],
   "source": [
    "# Выбрал нужные для задачи колонки и переименовал для для удобства использования\n",
    "# Проверил результирующую таблицу на наличие NaNов\n",
    "# Проверил написание занчений в столбце Региона, там оказались лишние пробелы\n",
    "\n",
    "wrld1 = wrld_table.iloc[:,[1, 3]].rename(columns = {'Area (sq. mi.)': 'Area'})\n",
    "print(wrld1.isnull().values.any())\n",
    "print(wrld1.index.size)\n",
    "print(wrld1.Region.unique())\n",
    "wrld1.head()"
   ]
  },
  {
   "cell_type": "code",
   "execution_count": 6,
   "id": "350beff6",
   "metadata": {},
   "outputs": [
    {
     "name": "stdout",
     "output_type": "stream",
     "text": [
      "['ASIA (EX. NEAR EAST)' 'EASTERN EUROPE' 'NORTHERN AFRICA' 'OCEANIA'\n",
      " 'WESTERN EUROPE' 'SUB-SAHARAN AFRICA' 'LATIN AMER. & CARIB'\n",
      " 'C.W. OF IND. STATES' 'NEAR EAST' 'NORTHERN AMERICA' 'BALTICS']\n"
     ]
    }
   ],
   "source": [
    "# Избавился от лишних пробелов в названиях Регионов\n",
    "\n",
    "wrld1.Region = wrld1.Region.apply(lambda x: x.strip())\n",
    "print(wrld1.Region.unique())"
   ]
  },
  {
   "cell_type": "code",
   "execution_count": 7,
   "id": "3412636a",
   "metadata": {},
   "outputs": [],
   "source": [
    "# Поскольку в работе придется часто работать со столбцом Регионов, то \n",
    "# подправим исходную таблицу, чтобы не делать этого заново впоследствии\n",
    "\n",
    "wrld_table.Region = wrld1.Region.apply(lambda x: x.strip())"
   ]
  },
  {
   "cell_type": "code",
   "execution_count": 8,
   "id": "3754637c",
   "metadata": {},
   "outputs": [
    {
     "data": {
      "text/plain": [
       "811.0"
      ]
     },
     "execution_count": 8,
     "metadata": {},
     "output_type": "execute_result"
    }
   ],
   "source": [
    "# Выделил все появления Океании в новой таблице и занес в переменную значение \n",
    "# медианы по площадям стран Океании\n",
    "\n",
    "oceania_median_area = wrld1.loc[wrld1.Region == 'OCEANIA'].Area.median()\n",
    "oceania_median_area"
   ]
  },
  {
   "cell_type": "code",
   "execution_count": null,
   "id": "e8209b6d",
   "metadata": {},
   "outputs": [],
   "source": []
  },
  {
   "cell_type": "markdown",
   "id": "fbb94e2c",
   "metadata": {},
   "source": [
    "### 2. Определить 10 стран с наименьшим уровнем грамотности."
   ]
  },
  {
   "cell_type": "code",
   "execution_count": 9,
   "id": "db969e9e",
   "metadata": {},
   "outputs": [
    {
     "name": "stdout",
     "output_type": "stream",
     "text": [
      "             Country Literacy\n",
      "0       Afghanistan      36,0\n",
      "1           Albania      86,5\n",
      "2           Algeria      70,0\n",
      "3    American Samoa      97,0\n",
      "4           Andorra     100,0\n",
      "..               ...      ...\n",
      "222       West Bank       NaN\n",
      "223  Western Sahara       NaN\n",
      "224           Yemen      50,2\n",
      "225          Zambia      80,6\n",
      "226        Zimbabwe      90,7\n",
      "\n",
      "[227 rows x 2 columns]\n",
      "True\n",
      "209\n"
     ]
    },
    {
     "data": {
      "text/plain": [
       "0       36,0\n",
       "1       86,5\n",
       "2       70,0\n",
       "3       97,0\n",
       "4      100,0\n",
       "       ...  \n",
       "219     90,3\n",
       "221     50,0\n",
       "224     50,2\n",
       "225     80,6\n",
       "226     90,7\n",
       "Name: Literacy, Length: 209, dtype: object"
      ]
     },
     "execution_count": 9,
     "metadata": {},
     "output_type": "execute_result"
    }
   ],
   "source": [
    "# Выбрал нужные для задачи колонки и переименовал\n",
    "# Опять же, проверил данные на наличие пустых значений и избавился от них\n",
    "# Определил тип данных в каждом столбце, в столбце Грамотность оказались не\n",
    "# численные значения с плавающей запятой, а строка, причем для конвертации\n",
    "# этих данных в тип float необходимо заменить \",\" на \".\"\n",
    "\n",
    "wrld2 = wrld_table.iloc[:,[0, 9]].rename(columns = {'Literacy (%)': 'Literacy'})\n",
    "print(wrld2)\n",
    "print(wrld2.isnull().values.any())\n",
    "wrld2 = wrld2.dropna().reindex()\n",
    "print(wrld2.index.size)\n",
    "wrld2.dtypes\n",
    "wrld2.Literacy"
   ]
  },
  {
   "cell_type": "code",
   "execution_count": 10,
   "id": "c3c02772",
   "metadata": {},
   "outputs": [
    {
     "data": {
      "text/html": [
       "<div>\n",
       "<style scoped>\n",
       "    .dataframe tbody tr th:only-of-type {\n",
       "        vertical-align: middle;\n",
       "    }\n",
       "\n",
       "    .dataframe tbody tr th {\n",
       "        vertical-align: top;\n",
       "    }\n",
       "\n",
       "    .dataframe thead th {\n",
       "        text-align: right;\n",
       "    }\n",
       "</style>\n",
       "<table border=\"1\" class=\"dataframe\">\n",
       "  <thead>\n",
       "    <tr style=\"text-align: right;\">\n",
       "      <th></th>\n",
       "      <th>Country</th>\n",
       "      <th>Literacy</th>\n",
       "    </tr>\n",
       "  </thead>\n",
       "  <tbody>\n",
       "    <tr>\n",
       "      <th>0</th>\n",
       "      <td>Afghanistan</td>\n",
       "      <td>36.0</td>\n",
       "    </tr>\n",
       "    <tr>\n",
       "      <th>1</th>\n",
       "      <td>Albania</td>\n",
       "      <td>86.5</td>\n",
       "    </tr>\n",
       "    <tr>\n",
       "      <th>2</th>\n",
       "      <td>Algeria</td>\n",
       "      <td>70.0</td>\n",
       "    </tr>\n",
       "    <tr>\n",
       "      <th>3</th>\n",
       "      <td>American Samoa</td>\n",
       "      <td>97.0</td>\n",
       "    </tr>\n",
       "    <tr>\n",
       "      <th>4</th>\n",
       "      <td>Andorra</td>\n",
       "      <td>100.0</td>\n",
       "    </tr>\n",
       "    <tr>\n",
       "      <th>...</th>\n",
       "      <td>...</td>\n",
       "      <td>...</td>\n",
       "    </tr>\n",
       "    <tr>\n",
       "      <th>219</th>\n",
       "      <td>Vietnam</td>\n",
       "      <td>90.3</td>\n",
       "    </tr>\n",
       "    <tr>\n",
       "      <th>221</th>\n",
       "      <td>Wallis and Futuna</td>\n",
       "      <td>50.0</td>\n",
       "    </tr>\n",
       "    <tr>\n",
       "      <th>224</th>\n",
       "      <td>Yemen</td>\n",
       "      <td>50.2</td>\n",
       "    </tr>\n",
       "    <tr>\n",
       "      <th>225</th>\n",
       "      <td>Zambia</td>\n",
       "      <td>80.6</td>\n",
       "    </tr>\n",
       "    <tr>\n",
       "      <th>226</th>\n",
       "      <td>Zimbabwe</td>\n",
       "      <td>90.7</td>\n",
       "    </tr>\n",
       "  </tbody>\n",
       "</table>\n",
       "<p>209 rows × 2 columns</p>\n",
       "</div>"
      ],
      "text/plain": [
       "                Country  Literacy\n",
       "0          Afghanistan       36.0\n",
       "1              Albania       86.5\n",
       "2              Algeria       70.0\n",
       "3       American Samoa       97.0\n",
       "4              Andorra      100.0\n",
       "..                  ...       ...\n",
       "219            Vietnam       90.3\n",
       "221  Wallis and Futuna       50.0\n",
       "224              Yemen       50.2\n",
       "225             Zambia       80.6\n",
       "226           Zimbabwe       90.7\n",
       "\n",
       "[209 rows x 2 columns]"
      ]
     },
     "execution_count": 10,
     "metadata": {},
     "output_type": "execute_result"
    }
   ],
   "source": [
    "# На всякий случай создал копию таблицы \n",
    "# Применил к каждой строке столбца Грамотность лямбда-функцию для замены запятой\n",
    "# на точку и сменил тип данных в этом же столбце\n",
    "\n",
    "wrld2_fixed = wrld2.copy()\n",
    "wrld2_fixed.Literacy = wrld2.Literacy.apply(lambda x: x.replace(',','.')).astype('float64')\n",
    "wrld2_fixed"
   ]
  },
  {
   "cell_type": "code",
   "execution_count": 11,
   "id": "b94706cb",
   "metadata": {},
   "outputs": [
    {
     "data": {
      "text/html": [
       "<div>\n",
       "<style scoped>\n",
       "    .dataframe tbody tr th:only-of-type {\n",
       "        vertical-align: middle;\n",
       "    }\n",
       "\n",
       "    .dataframe tbody tr th {\n",
       "        vertical-align: top;\n",
       "    }\n",
       "\n",
       "    .dataframe thead th {\n",
       "        text-align: right;\n",
       "    }\n",
       "</style>\n",
       "<table border=\"1\" class=\"dataframe\">\n",
       "  <thead>\n",
       "    <tr style=\"text-align: right;\">\n",
       "      <th></th>\n",
       "      <th>Country</th>\n",
       "      <th>Literacy</th>\n",
       "    </tr>\n",
       "  </thead>\n",
       "  <tbody>\n",
       "    <tr>\n",
       "      <th>151</th>\n",
       "      <td>Niger</td>\n",
       "      <td>17.6</td>\n",
       "    </tr>\n",
       "    <tr>\n",
       "      <th>31</th>\n",
       "      <td>Burkina Faso</td>\n",
       "      <td>26.6</td>\n",
       "    </tr>\n",
       "    <tr>\n",
       "      <th>183</th>\n",
       "      <td>Sierra Leone</td>\n",
       "      <td>31.4</td>\n",
       "    </tr>\n",
       "    <tr>\n",
       "      <th>86</th>\n",
       "      <td>Guinea</td>\n",
       "      <td>35.9</td>\n",
       "    </tr>\n",
       "    <tr>\n",
       "      <th>0</th>\n",
       "      <td>Afghanistan</td>\n",
       "      <td>36.0</td>\n",
       "    </tr>\n",
       "    <tr>\n",
       "      <th>188</th>\n",
       "      <td>Somalia</td>\n",
       "      <td>37.8</td>\n",
       "    </tr>\n",
       "    <tr>\n",
       "      <th>73</th>\n",
       "      <td>Gambia, The</td>\n",
       "      <td>40.1</td>\n",
       "    </tr>\n",
       "    <tr>\n",
       "      <th>180</th>\n",
       "      <td>Senegal</td>\n",
       "      <td>40.2</td>\n",
       "    </tr>\n",
       "    <tr>\n",
       "      <th>97</th>\n",
       "      <td>Iraq</td>\n",
       "      <td>40.4</td>\n",
       "    </tr>\n",
       "    <tr>\n",
       "      <th>21</th>\n",
       "      <td>Benin</td>\n",
       "      <td>40.9</td>\n",
       "    </tr>\n",
       "  </tbody>\n",
       "</table>\n",
       "</div>"
      ],
      "text/plain": [
       "           Country  Literacy\n",
       "151         Niger       17.6\n",
       "31   Burkina Faso       26.6\n",
       "183  Sierra Leone       31.4\n",
       "86         Guinea       35.9\n",
       "0     Afghanistan       36.0\n",
       "188       Somalia       37.8\n",
       "73    Gambia, The       40.1\n",
       "180       Senegal       40.2\n",
       "97           Iraq       40.4\n",
       "21          Benin       40.9"
      ]
     },
     "execution_count": 11,
     "metadata": {},
     "output_type": "execute_result"
    }
   ],
   "source": [
    "# Отсортировал по значениям Грамотность результирующую таблицу и посмотрел, что\n",
    "# выходит\n",
    "\n",
    "wrld2_fixed.sort_values(by = 'Literacy').head(10)"
   ]
  },
  {
   "cell_type": "code",
   "execution_count": 12,
   "id": "87aebf26",
   "metadata": {},
   "outputs": [
    {
     "data": {
      "text/plain": [
       "0           Niger \n",
       "1    Burkina Faso \n",
       "2    Sierra Leone \n",
       "3          Guinea \n",
       "4     Afghanistan \n",
       "5         Somalia \n",
       "6     Gambia, The \n",
       "7         Senegal \n",
       "8            Iraq \n",
       "9           Benin \n",
       "Name: Country, dtype: object"
      ]
     },
     "execution_count": 12,
     "metadata": {},
     "output_type": "execute_result"
    }
   ],
   "source": [
    "# Сделал то же самое с ограничением в первые 10 значением и сохранил серию \n",
    "# только с наименованиями стран в переменную\n",
    "\n",
    "low_literacy_countries = wrld2_fixed.sort_values(by = 'Literacy') \\\n",
    ".iloc[0:10, 0].reset_index(drop = True)\n",
    "low_literacy_countries"
   ]
  },
  {
   "cell_type": "code",
   "execution_count": null,
   "id": "08783235",
   "metadata": {},
   "outputs": [],
   "source": []
  },
  {
   "cell_type": "markdown",
   "id": "d79b10aa",
   "metadata": {},
   "source": [
    "### 3. Построить график суммарной численности населения в разбивке по регионам."
   ]
  },
  {
   "cell_type": "code",
   "execution_count": 13,
   "id": "40d44b91",
   "metadata": {},
   "outputs": [
    {
     "name": "stdout",
     "output_type": "stream",
     "text": [
      "                   Region  Population\n",
      "0    ASIA (EX. NEAR EAST)    31056997\n",
      "1          EASTERN EUROPE     3581655\n",
      "2         NORTHERN AFRICA    32930091\n",
      "3                 OCEANIA       57794\n",
      "4          WESTERN EUROPE       71201\n",
      "..                    ...         ...\n",
      "222             NEAR EAST     2460492\n",
      "223       NORTHERN AFRICA      273008\n",
      "224             NEAR EAST    21456188\n",
      "225    SUB-SAHARAN AFRICA    11502010\n",
      "226    SUB-SAHARAN AFRICA    12236805\n",
      "\n",
      "[227 rows x 2 columns]\n",
      "False\n",
      "227\n"
     ]
    },
    {
     "data": {
      "text/plain": [
       "Region        object\n",
       "Population     int64\n",
       "dtype: object"
      ]
     },
     "execution_count": 13,
     "metadata": {},
     "output_type": "execute_result"
    }
   ],
   "source": [
    "# Выбрал нужное для задачи\n",
    "# Проверил результирующую таблицу на наличие NaNов (их не оказалось)\n",
    "# Определил тип данных в каждом столбце (все оказалось подходящим)\n",
    "\n",
    "wrld3 = wrld_table.iloc[:,[1, 2]].copy()\n",
    "print(wrld3)\n",
    "print(wrld3.isnull().values.any())\n",
    "print(wrld3.index.size)\n",
    "wrld3.dtypes"
   ]
  },
  {
   "cell_type": "code",
   "execution_count": 14,
   "id": "1af2ca7a",
   "metadata": {},
   "outputs": [
    {
     "data": {
      "text/plain": [
       "Region\n",
       "ASIA (EX. NEAR EAST)    3687982236\n",
       "BALTICS                    7184974\n",
       "C.W. OF IND. STATES      280081548\n",
       "EASTERN EUROPE           119914717\n",
       "LATIN AMER. & CARIB      561824599\n",
       "NEAR EAST                195068377\n",
       "NORTHERN AFRICA          161407133\n",
       "NORTHERN AMERICA         331672307\n",
       "OCEANIA                   33131662\n",
       "SUB-SAHARAN AFRICA       749437000\n",
       "WESTERN EUROPE           396339998\n",
       "Name: Population, dtype: int64"
      ]
     },
     "execution_count": 14,
     "metadata": {},
     "output_type": "execute_result"
    }
   ],
   "source": [
    "# Сгруппировал данные по региону с суммированием численности по каждой группе\n",
    "\n",
    "region_popul = wrld3.groupby('Region').Population.sum()\n",
    "region_popul"
   ]
  },
  {
   "cell_type": "code",
   "execution_count": 15,
   "id": "ffda56d9",
   "metadata": {},
   "outputs": [
    {
     "data": {
      "image/png": "[encoded data removed]",
      "text/plain": [
       "<Figure size 432x288 with 1 Axes>"
      ]
     },
     "metadata": {
      "needs_background": "light"
     },
     "output_type": "display_data"
    }
   ],
   "source": [
    "# Отобразил график гистограммы популяции по регионам \n",
    "\n",
    "plt.bar(region_popul.index, region_popul)\n",
    "plt.title('Гистограмма популяции по регионам', fontsize = 16)\n",
    "plt.gcf().axes[0].yaxis.get_major_formatter().set_scientific(False)\n",
    "plt.xticks(rotation = 90)\n",
    "plt.xlabel('Регион', fontsize = 14)\n",
    "plt.ylabel('Популяция, чел.', fontsize = 14)\n",
    "plt.show()"
   ]
  },
  {
   "cell_type": "code",
   "execution_count": null,
   "id": "8c1fc51c",
   "metadata": {},
   "outputs": [],
   "source": []
  },
  {
   "cell_type": "markdown",
   "id": "8ebeaa95",
   "metadata": {},
   "source": [
    "### 4. На основании данных, ответить на вопрос, в каком регионе наблюдается наибольший миграционный отток населения."
   ]
  },
  {
   "cell_type": "code",
   "execution_count": 16,
   "id": "7bfefa4c",
   "metadata": {},
   "outputs": [
    {
     "name": "stdout",
     "output_type": "stream",
     "text": [
      "                   Region Migration\n",
      "0    ASIA (EX. NEAR EAST)     23,06\n",
      "1          EASTERN EUROPE     -4,93\n",
      "2         NORTHERN AFRICA     -0,39\n",
      "3                 OCEANIA    -20,71\n",
      "4          WESTERN EUROPE       6,6\n",
      "..                    ...       ...\n",
      "222             NEAR EAST      2,98\n",
      "223       NORTHERN AFRICA       NaN\n",
      "224             NEAR EAST         0\n",
      "225    SUB-SAHARAN AFRICA         0\n",
      "226    SUB-SAHARAN AFRICA         0\n",
      "\n",
      "[227 rows x 2 columns]\n",
      "True\n",
      "224\n"
     ]
    },
    {
     "data": {
      "text/plain": [
       "Region       object\n",
       "Migration    object\n",
       "dtype: object"
      ]
     },
     "execution_count": 16,
     "metadata": {},
     "output_type": "execute_result"
    }
   ],
   "source": [
    "# Так же выбрал нужное для задачи колонки и переименовал\n",
    "# Опять же, проверил данные на наличие пустых значений и избавился\n",
    "# Определил тип данных в каждом столбце, ситуация оказалось такой же, как и\n",
    "# во втором задании этого раздела\n",
    "\n",
    "wrld4 = wrld_table.iloc[:,[1, 6]].copy().rename(columns = {'Net migration': 'Migration'})\n",
    "print(wrld4)\n",
    "print(wrld4.isnull().values.any())\n",
    "wrld4 = wrld4.dropna().reindex()\n",
    "print(wrld4.index.size)\n",
    "wrld4.dtypes"
   ]
  },
  {
   "cell_type": "code",
   "execution_count": 17,
   "id": "30cd24c8",
   "metadata": {},
   "outputs": [
    {
     "data": {
      "text/html": [
       "<div>\n",
       "<style scoped>\n",
       "    .dataframe tbody tr th:only-of-type {\n",
       "        vertical-align: middle;\n",
       "    }\n",
       "\n",
       "    .dataframe tbody tr th {\n",
       "        vertical-align: top;\n",
       "    }\n",
       "\n",
       "    .dataframe thead th {\n",
       "        text-align: right;\n",
       "    }\n",
       "</style>\n",
       "<table border=\"1\" class=\"dataframe\">\n",
       "  <thead>\n",
       "    <tr style=\"text-align: right;\">\n",
       "      <th></th>\n",
       "      <th>Region</th>\n",
       "      <th>Migration</th>\n",
       "    </tr>\n",
       "  </thead>\n",
       "  <tbody>\n",
       "    <tr>\n",
       "      <th>0</th>\n",
       "      <td>ASIA (EX. NEAR EAST)</td>\n",
       "      <td>23.06</td>\n",
       "    </tr>\n",
       "    <tr>\n",
       "      <th>1</th>\n",
       "      <td>EASTERN EUROPE</td>\n",
       "      <td>-4.93</td>\n",
       "    </tr>\n",
       "    <tr>\n",
       "      <th>2</th>\n",
       "      <td>NORTHERN AFRICA</td>\n",
       "      <td>-0.39</td>\n",
       "    </tr>\n",
       "    <tr>\n",
       "      <th>3</th>\n",
       "      <td>OCEANIA</td>\n",
       "      <td>-20.71</td>\n",
       "    </tr>\n",
       "    <tr>\n",
       "      <th>4</th>\n",
       "      <td>WESTERN EUROPE</td>\n",
       "      <td>6.60</td>\n",
       "    </tr>\n",
       "    <tr>\n",
       "      <th>...</th>\n",
       "      <td>...</td>\n",
       "      <td>...</td>\n",
       "    </tr>\n",
       "    <tr>\n",
       "      <th>220</th>\n",
       "      <td>LATIN AMER. &amp; CARIB</td>\n",
       "      <td>-8.94</td>\n",
       "    </tr>\n",
       "    <tr>\n",
       "      <th>222</th>\n",
       "      <td>NEAR EAST</td>\n",
       "      <td>2.98</td>\n",
       "    </tr>\n",
       "    <tr>\n",
       "      <th>224</th>\n",
       "      <td>NEAR EAST</td>\n",
       "      <td>0.00</td>\n",
       "    </tr>\n",
       "    <tr>\n",
       "      <th>225</th>\n",
       "      <td>SUB-SAHARAN AFRICA</td>\n",
       "      <td>0.00</td>\n",
       "    </tr>\n",
       "    <tr>\n",
       "      <th>226</th>\n",
       "      <td>SUB-SAHARAN AFRICA</td>\n",
       "      <td>0.00</td>\n",
       "    </tr>\n",
       "  </tbody>\n",
       "</table>\n",
       "<p>224 rows × 2 columns</p>\n",
       "</div>"
      ],
      "text/plain": [
       "                   Region  Migration\n",
       "0    ASIA (EX. NEAR EAST)      23.06\n",
       "1          EASTERN EUROPE      -4.93\n",
       "2         NORTHERN AFRICA      -0.39\n",
       "3                 OCEANIA     -20.71\n",
       "4          WESTERN EUROPE       6.60\n",
       "..                    ...        ...\n",
       "220   LATIN AMER. & CARIB      -8.94\n",
       "222             NEAR EAST       2.98\n",
       "224             NEAR EAST       0.00\n",
       "225    SUB-SAHARAN AFRICA       0.00\n",
       "226    SUB-SAHARAN AFRICA       0.00\n",
       "\n",
       "[224 rows x 2 columns]"
      ]
     },
     "execution_count": 17,
     "metadata": {},
     "output_type": "execute_result"
    }
   ],
   "source": [
    "# Cоздал копию таблицы \n",
    "# Заменил запятые на точки в значениях столбца Миграций и сменил тип данных\n",
    "\n",
    "wrld4_fixed = wrld4.copy()\n",
    "wrld4_fixed.Migration = wrld4.Migration.apply(lambda x: x.replace(',','.')).astype('float64')\n",
    "wrld4_fixed"
   ]
  },
  {
   "cell_type": "code",
   "execution_count": 18,
   "id": "7969467d",
   "metadata": {},
   "outputs": [
    {
     "name": "stdout",
     "output_type": "stream",
     "text": [
      "                Region  Migration\n",
      "0  LATIN AMER. & CARIB     -67.25\n",
      "1              OCEANIA     -39.15\n",
      "2  C.W. OF IND. STATES     -24.40\n",
      "3   SUB-SAHARAN AFRICA     -17.09\n",
      "4       EASTERN EUROPE      -7.77\n"
     ]
    },
    {
     "data": {
      "text/plain": [
       "Region       LATIN AMER. & CARIB\n",
       "Migration                 -67.25\n",
       "Name: 0, dtype: object"
      ]
     },
     "execution_count": 18,
     "metadata": {},
     "output_type": "execute_result"
    }
   ],
   "source": [
    "# Сгруппировал данные по Регионам с добавлением нового индекса в \n",
    "# результирующую таблицу и суммированием значений показателей миграций по\n",
    "# соответствующим регионам\n",
    "# Обновил счетчик индекса и занес в migrations\n",
    "\n",
    "migrations_df = wrld4_fixed.groupby('Region', as_index = False).Migration \\\n",
    ".sum().sort_values(by = 'Migration').reset_index(drop = True)\n",
    "print(migrations_df.head())\n",
    "\n",
    "# По данным таблицы migrations можно сказать, что самый большой миграционный\n",
    "# отток наблюдается в сообществе стран Латинской Америки и Карибского бассейна\n",
    "\n",
    "# Занес первую строку результирующей таблицы в новую переменную\n",
    "\n",
    "migrations = migrations_df.iloc[0,:]\n",
    "migrations\n"
   ]
  },
  {
   "cell_type": "code",
   "execution_count": null,
   "id": "7da803ac",
   "metadata": {},
   "outputs": [],
   "source": []
  }
 ],
 "metadata": {
  "kernelspec": {
   "display_name": "Python 3 (ipykernel)",
   "language": "python",
   "name": "python3"
  },
  "language_info": {
   "codemirror_mode": {
    "name": "ipython",
    "version": 3
   },
   "file_extension": ".py",
   "mimetype": "text/x-python",
   "name": "python",
   "nbconvert_exporter": "python",
   "pygments_lexer": "ipython3",
   "version": "3.8.8"
  }
 },
 "nbformat": 4,
 "nbformat_minor": 5
}
