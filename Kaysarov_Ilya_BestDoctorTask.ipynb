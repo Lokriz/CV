{
 "cells": [
  {
   "cell_type": "code",
   "execution_count": 32,
   "id": "1cf2d4f7",
   "metadata": {},
   "outputs": [],
   "source": [
    "import pandas as pd\n",
    "import numpy as np\n",
    "import matplotlib.pyplot as plt"
   ]
  },
  {
   "cell_type": "code",
   "execution_count": 33,
   "id": "abbe4c12",
   "metadata": {},
   "outputs": [],
   "source": [
    "name = 'BD_data.xlsx'"
   ]
  },
  {
   "cell_type": "code",
   "execution_count": 34,
   "id": "963f0c1c",
   "metadata": {},
   "outputs": [
    {
     "name": "stdout",
     "output_type": "stream",
     "text": [
      "                                       reg\n",
      "0   пациент 21 оплатил 3468.72 от 7.1.2020\n",
      "1   пациент 22 оплатил 9264.84 от 2.1.2020\n",
      "2  пациент 23 оплатил 9593.12 от 31.1.2020\n",
      "3  пациент 24 оплатил 7798.25 от 30.1.2020\n",
      "4  пациент 25 оплатил 4425.30 от 24.1.2020\n"
     ]
    },
    {
     "data": {
      "text/html": [
       "<div>\n",
       "<style scoped>\n",
       "    .dataframe tbody tr th:only-of-type {\n",
       "        vertical-align: middle;\n",
       "    }\n",
       "\n",
       "    .dataframe tbody tr th {\n",
       "        vertical-align: top;\n",
       "    }\n",
       "\n",
       "    .dataframe thead th {\n",
       "        text-align: right;\n",
       "    }\n",
       "</style>\n",
       "<table border=\"1\" class=\"dataframe\">\n",
       "  <thead>\n",
       "    <tr style=\"text-align: right;\">\n",
       "      <th></th>\n",
       "      <th>reg</th>\n",
       "    </tr>\n",
       "  </thead>\n",
       "  <tbody>\n",
       "    <tr>\n",
       "      <th>count</th>\n",
       "      <td>660</td>\n",
       "    </tr>\n",
       "    <tr>\n",
       "      <th>unique</th>\n",
       "      <td>660</td>\n",
       "    </tr>\n",
       "    <tr>\n",
       "      <th>top</th>\n",
       "      <td>пациент 21 оплатил 3468.72 от 7.1.2020</td>\n",
       "    </tr>\n",
       "    <tr>\n",
       "      <th>freq</th>\n",
       "      <td>1</td>\n",
       "    </tr>\n",
       "  </tbody>\n",
       "</table>\n",
       "</div>"
      ],
      "text/plain": [
       "                                           reg\n",
       "count                                      660\n",
       "unique                                     660\n",
       "top     пациент 21 оплатил 3468.72 от 7.1.2020\n",
       "freq                                         1"
      ]
     },
     "execution_count": 34,
     "metadata": {},
     "output_type": "execute_result"
    }
   ],
   "source": [
    "row_data = pd.read_excel(name, usecols = [1], skiprows= 1, names = ['reg'])\n",
    "print(row_data.head())\n",
    "row_data.describe()"
   ]
  },
  {
   "cell_type": "code",
   "execution_count": 35,
   "id": "be7f7d7b",
   "metadata": {},
   "outputs": [
    {
     "data": {
      "text/plain": [
       "0     [пациент, 21, оплатил, 3468.72, от, 7.1.2020]\n",
       "1     [пациент, 22, оплатил, 9264.84, от, 2.1.2020]\n",
       "2    [пациент, 23, оплатил, 9593.12, от, 31.1.2020]\n",
       "3    [пациент, 24, оплатил, 7798.25, от, 30.1.2020]\n",
       "4    [пациент, 25, оплатил, 4425.30, от, 24.1.2020]\n",
       "Name: reg, dtype: object"
      ]
     },
     "execution_count": 35,
     "metadata": {},
     "output_type": "execute_result"
    }
   ],
   "source": [
    "# После загрузки данных построчно разделил данные по пробелам\n",
    "row_ser = row_data.reg.apply(lambda x: x.split())\n",
    "row_ser.head()"
   ]
  },
  {
   "cell_type": "code",
   "execution_count": 36,
   "id": "a9d36904",
   "metadata": {},
   "outputs": [
    {
     "data": {
      "text/html": [
       "<div>\n",
       "<style scoped>\n",
       "    .dataframe tbody tr th:only-of-type {\n",
       "        vertical-align: middle;\n",
       "    }\n",
       "\n",
       "    .dataframe tbody tr th {\n",
       "        vertical-align: top;\n",
       "    }\n",
       "\n",
       "    .dataframe thead th {\n",
       "        text-align: right;\n",
       "    }\n",
       "</style>\n",
       "<table border=\"1\" class=\"dataframe\">\n",
       "  <thead>\n",
       "    <tr style=\"text-align: right;\">\n",
       "      <th></th>\n",
       "      <th>0</th>\n",
       "      <th>1</th>\n",
       "      <th>2</th>\n",
       "      <th>3</th>\n",
       "      <th>4</th>\n",
       "      <th>5</th>\n",
       "    </tr>\n",
       "  </thead>\n",
       "  <tbody>\n",
       "    <tr>\n",
       "      <th>0</th>\n",
       "      <td>пациент</td>\n",
       "      <td>21</td>\n",
       "      <td>оплатил</td>\n",
       "      <td>3468.72</td>\n",
       "      <td>от</td>\n",
       "      <td>7.1.2020</td>\n",
       "    </tr>\n",
       "    <tr>\n",
       "      <th>1</th>\n",
       "      <td>пациент</td>\n",
       "      <td>22</td>\n",
       "      <td>оплатил</td>\n",
       "      <td>9264.84</td>\n",
       "      <td>от</td>\n",
       "      <td>2.1.2020</td>\n",
       "    </tr>\n",
       "    <tr>\n",
       "      <th>2</th>\n",
       "      <td>пациент</td>\n",
       "      <td>23</td>\n",
       "      <td>оплатил</td>\n",
       "      <td>9593.12</td>\n",
       "      <td>от</td>\n",
       "      <td>31.1.2020</td>\n",
       "    </tr>\n",
       "    <tr>\n",
       "      <th>3</th>\n",
       "      <td>пациент</td>\n",
       "      <td>24</td>\n",
       "      <td>оплатил</td>\n",
       "      <td>7798.25</td>\n",
       "      <td>от</td>\n",
       "      <td>30.1.2020</td>\n",
       "    </tr>\n",
       "    <tr>\n",
       "      <th>4</th>\n",
       "      <td>пациент</td>\n",
       "      <td>25</td>\n",
       "      <td>оплатил</td>\n",
       "      <td>4425.30</td>\n",
       "      <td>от</td>\n",
       "      <td>24.1.2020</td>\n",
       "    </tr>\n",
       "  </tbody>\n",
       "</table>\n",
       "</div>"
      ],
      "text/plain": [
       "         0   1        2        3   4          5\n",
       "0  пациент  21  оплатил  3468.72  от   7.1.2020\n",
       "1  пациент  22  оплатил  9264.84  от   2.1.2020\n",
       "2  пациент  23  оплатил  9593.12  от  31.1.2020\n",
       "3  пациент  24  оплатил  7798.25  от  30.1.2020\n",
       "4  пациент  25  оплатил  4425.30  от  24.1.2020"
      ]
     },
     "execution_count": 36,
     "metadata": {},
     "output_type": "execute_result"
    }
   ],
   "source": [
    "data = pd.DataFrame(list(row_ser), dtype = str)\n",
    "data.head()"
   ]
  },
  {
   "cell_type": "code",
   "execution_count": 37,
   "id": "96937260",
   "metadata": {},
   "outputs": [
    {
     "name": "stdout",
     "output_type": "stream",
     "text": [
      "    1        3   4          5\n",
      "0  21  3468.72  от   7.1.2020\n",
      "1  22  9264.84  от   2.1.2020\n",
      "2  23  9593.12  от  31.1.2020\n",
      "3  24  7798.25  от  30.1.2020\n",
      "4  25  4425.30  от  24.1.2020\n"
     ]
    },
    {
     "data": {
      "text/plain": [
       "array(['от', '13.9.2020', '15.2.2020', '14.3.2020', '13.4.2020',\n",
       "       '28.4.2020'], dtype=object)"
      ]
     },
     "execution_count": 37,
     "metadata": {},
     "output_type": "execute_result"
    }
   ],
   "source": [
    "# Атрибуты данных, имеющие одни и те же значения в каждой строке не несут в \n",
    "# себе информационной ценности, поэтому стоит проверить колонки на уникальность\n",
    "# и удалить ненужные атрибуты\n",
    "for i in data.columns: \n",
    "    if len(data[i].unique()) == 1:\n",
    "        data.drop(columns = i, inplace = True)\n",
    "print(data.head())\n",
    "# Поскольку ожидалось, что в 4ом столбце будут одинаковые значения, но столбец\n",
    "# не был удален, стоит посмотреть на его уникальность\n",
    "# В 4ом столбце оказались значения дат, поскольку в некоторых строках была \n",
    "# допущена ошибка в записи (пропущено разделительное слово 'от') \n",
    "data[4].unique()"
   ]
  },
  {
   "cell_type": "code",
   "execution_count": 38,
   "id": "fb787374",
   "metadata": {},
   "outputs": [
    {
     "data": {
      "text/plain": [
       "array(['13.9.2020', '15.2.2020', '14.3.2020', '13.4.2020', '28.4.2020'],\n",
       "      dtype=object)"
      ]
     },
     "execution_count": 38,
     "metadata": {},
     "output_type": "execute_result"
    }
   ],
   "source": [
    "# Записал ошибочые данные в массив\n",
    "error_list = data[4].unique()[1:]\n",
    "error_list"
   ]
  },
  {
   "cell_type": "code",
   "execution_count": 39,
   "id": "e667b727",
   "metadata": {},
   "outputs": [
    {
     "name": "stdout",
     "output_type": "stream",
     "text": [
      "<class 'pandas.core.frame.DataFrame'>\n",
      "RangeIndex: 660 entries, 0 to 659\n",
      "Data columns (total 4 columns):\n",
      " #   Column  Non-Null Count  Dtype \n",
      "---  ------  --------------  ----- \n",
      " 0   1       660 non-null    object\n",
      " 1   3       660 non-null    object\n",
      " 2   4       660 non-null    object\n",
      " 3   5       660 non-null    object\n",
      "dtypes: object(4)\n",
      "memory usage: 20.8+ KB\n"
     ]
    },
    {
     "data": {
      "text/html": [
       "<div>\n",
       "<style scoped>\n",
       "    .dataframe tbody tr th:only-of-type {\n",
       "        vertical-align: middle;\n",
       "    }\n",
       "\n",
       "    .dataframe tbody tr th {\n",
       "        vertical-align: top;\n",
       "    }\n",
       "\n",
       "    .dataframe thead th {\n",
       "        text-align: right;\n",
       "    }\n",
       "</style>\n",
       "<table border=\"1\" class=\"dataframe\">\n",
       "  <thead>\n",
       "    <tr style=\"text-align: right;\">\n",
       "      <th></th>\n",
       "      <th>id</th>\n",
       "      <th>paid</th>\n",
       "      <th>date</th>\n",
       "    </tr>\n",
       "  </thead>\n",
       "  <tbody>\n",
       "    <tr>\n",
       "      <th>0</th>\n",
       "      <td>21</td>\n",
       "      <td>3468.72</td>\n",
       "      <td>7.1.2020</td>\n",
       "    </tr>\n",
       "    <tr>\n",
       "      <th>1</th>\n",
       "      <td>22</td>\n",
       "      <td>9264.84</td>\n",
       "      <td>2.1.2020</td>\n",
       "    </tr>\n",
       "    <tr>\n",
       "      <th>2</th>\n",
       "      <td>23</td>\n",
       "      <td>9593.12</td>\n",
       "      <td>31.1.2020</td>\n",
       "    </tr>\n",
       "    <tr>\n",
       "      <th>3</th>\n",
       "      <td>24</td>\n",
       "      <td>7798.25</td>\n",
       "      <td>30.1.2020</td>\n",
       "    </tr>\n",
       "    <tr>\n",
       "      <th>4</th>\n",
       "      <td>25</td>\n",
       "      <td>4425.30</td>\n",
       "      <td>24.1.2020</td>\n",
       "    </tr>\n",
       "    <tr>\n",
       "      <th>5</th>\n",
       "      <td>26</td>\n",
       "      <td>4019.86</td>\n",
       "      <td>10.26.2020</td>\n",
       "    </tr>\n",
       "    <tr>\n",
       "      <th>6</th>\n",
       "      <td>27</td>\n",
       "      <td>6508.98</td>\n",
       "      <td>11.9.2020</td>\n",
       "    </tr>\n",
       "    <tr>\n",
       "      <th>7</th>\n",
       "      <td>28</td>\n",
       "      <td>4447.99</td>\n",
       "      <td>1.29.2020</td>\n",
       "    </tr>\n",
       "    <tr>\n",
       "      <th>8</th>\n",
       "      <td>29</td>\n",
       "      <td>4111.23</td>\n",
       "      <td>22.1.2020</td>\n",
       "    </tr>\n",
       "    <tr>\n",
       "      <th>9</th>\n",
       "      <td>30</td>\n",
       "      <td>7877.01</td>\n",
       "      <td>26.2.2020</td>\n",
       "    </tr>\n",
       "  </tbody>\n",
       "</table>\n",
       "</div>"
      ],
      "text/plain": [
       "   id     paid        date\n",
       "0  21  3468.72    7.1.2020\n",
       "1  22  9264.84    2.1.2020\n",
       "2  23  9593.12   31.1.2020\n",
       "3  24  7798.25   30.1.2020\n",
       "4  25  4425.30   24.1.2020\n",
       "5  26  4019.86  10.26.2020\n",
       "6  27  6508.98   11.9.2020\n",
       "7  28  4447.99   1.29.2020\n",
       "8  29  4111.23   22.1.2020\n",
       "9  30  7877.01   26.2.2020"
      ]
     },
     "execution_count": 39,
     "metadata": {},
     "output_type": "execute_result"
    }
   ],
   "source": [
    "# Дополнил столбец с датами пропущенными данными в местах ошибки\n",
    "# Проверил данные на наличие пропусков\n",
    "# Выбросил 4ый столбец\n",
    "for i in error_list:\n",
    "    data[5].loc[data[4] == i] = i\n",
    "data.info()\n",
    "data.drop(columns = 4, inplace = True)\n",
    "# Переименовал аттрибуты для удобства\n",
    "data.rename(columns = {1: 'id', 3: 'paid', 5: 'date'}, inplace = True)\n",
    "data.head(10)"
   ]
  },
  {
   "cell_type": "code",
   "execution_count": 43,
   "id": "3e23d579",
   "metadata": {},
   "outputs": [
    {
     "data": {
      "text/html": [
       "<div>\n",
       "<style scoped>\n",
       "    .dataframe tbody tr th:only-of-type {\n",
       "        vertical-align: middle;\n",
       "    }\n",
       "\n",
       "    .dataframe tbody tr th {\n",
       "        vertical-align: top;\n",
       "    }\n",
       "\n",
       "    .dataframe thead th {\n",
       "        text-align: right;\n",
       "    }\n",
       "</style>\n",
       "<table border=\"1\" class=\"dataframe\">\n",
       "  <thead>\n",
       "    <tr style=\"text-align: right;\">\n",
       "      <th></th>\n",
       "      <th>id</th>\n",
       "      <th>paid</th>\n",
       "      <th>date</th>\n",
       "      <th>month</th>\n",
       "    </tr>\n",
       "  </thead>\n",
       "  <tbody>\n",
       "    <tr>\n",
       "      <th>0</th>\n",
       "      <td>21</td>\n",
       "      <td>3468.72</td>\n",
       "      <td>7.1.2020</td>\n",
       "      <td>1</td>\n",
       "    </tr>\n",
       "    <tr>\n",
       "      <th>1</th>\n",
       "      <td>22</td>\n",
       "      <td>9264.84</td>\n",
       "      <td>2.1.2020</td>\n",
       "      <td>1</td>\n",
       "    </tr>\n",
       "    <tr>\n",
       "      <th>2</th>\n",
       "      <td>23</td>\n",
       "      <td>9593.12</td>\n",
       "      <td>31.1.2020</td>\n",
       "      <td>1</td>\n",
       "    </tr>\n",
       "    <tr>\n",
       "      <th>3</th>\n",
       "      <td>24</td>\n",
       "      <td>7798.25</td>\n",
       "      <td>30.1.2020</td>\n",
       "      <td>1</td>\n",
       "    </tr>\n",
       "    <tr>\n",
       "      <th>4</th>\n",
       "      <td>25</td>\n",
       "      <td>4425.30</td>\n",
       "      <td>24.1.2020</td>\n",
       "      <td>1</td>\n",
       "    </tr>\n",
       "    <tr>\n",
       "      <th>5</th>\n",
       "      <td>26</td>\n",
       "      <td>4019.86</td>\n",
       "      <td>10.26.2020</td>\n",
       "      <td>10</td>\n",
       "    </tr>\n",
       "    <tr>\n",
       "      <th>6</th>\n",
       "      <td>27</td>\n",
       "      <td>6508.98</td>\n",
       "      <td>11.9.2020</td>\n",
       "      <td>9</td>\n",
       "    </tr>\n",
       "    <tr>\n",
       "      <th>7</th>\n",
       "      <td>28</td>\n",
       "      <td>4447.99</td>\n",
       "      <td>1.29.2020</td>\n",
       "      <td>1</td>\n",
       "    </tr>\n",
       "    <tr>\n",
       "      <th>8</th>\n",
       "      <td>29</td>\n",
       "      <td>4111.23</td>\n",
       "      <td>22.1.2020</td>\n",
       "      <td>1</td>\n",
       "    </tr>\n",
       "    <tr>\n",
       "      <th>9</th>\n",
       "      <td>30</td>\n",
       "      <td>7877.01</td>\n",
       "      <td>26.2.2020</td>\n",
       "      <td>2</td>\n",
       "    </tr>\n",
       "  </tbody>\n",
       "</table>\n",
       "</div>"
      ],
      "text/plain": [
       "   id     paid        date month\n",
       "0  21  3468.72    7.1.2020     1\n",
       "1  22  9264.84    2.1.2020     1\n",
       "2  23  9593.12   31.1.2020     1\n",
       "3  24  7798.25   30.1.2020     1\n",
       "4  25  4425.30   24.1.2020     1\n",
       "5  26  4019.86  10.26.2020    10\n",
       "6  27  6508.98   11.9.2020     9\n",
       "7  28  4447.99   1.29.2020     1\n",
       "8  29  4111.23   22.1.2020     1\n",
       "9  30  7877.01   26.2.2020     2"
      ]
     },
     "execution_count": 43,
     "metadata": {},
     "output_type": "execute_result"
    }
   ],
   "source": [
    "# Сформировал новый столбец с первичными значениями месяца с учетомсбоя в \n",
    "# сохранении дат\n",
    "data['month'] = data['date'].apply(lambda x: x.split('.')[1] if int(x.split('.')[1]) < 13 else x.split('.')[0])\n",
    "data.head(10)"
   ]
  },
  {
   "cell_type": "code",
   "execution_count": 44,
   "id": "46ee1354",
   "metadata": {},
   "outputs": [
    {
     "name": "stdout",
     "output_type": "stream",
     "text": [
      "<class 'pandas.core.frame.DataFrame'>\n",
      "RangeIndex: 660 entries, 0 to 659\n",
      "Data columns (total 4 columns):\n",
      " #   Column  Non-Null Count  Dtype  \n",
      "---  ------  --------------  -----  \n",
      " 0   id      660 non-null    int32  \n",
      " 1   paid    660 non-null    float64\n",
      " 2   date    660 non-null    object \n",
      " 3   month   660 non-null    int32  \n",
      "dtypes: float64(1), int32(2), object(1)\n",
      "memory usage: 15.6+ KB\n"
     ]
    }
   ],
   "source": [
    "# Изменил типизацию числовых данных\n",
    "data = data.astype({'id': int, 'paid': float, 'month': int})\n",
    "data.info()"
   ]
  },
  {
   "cell_type": "code",
   "execution_count": 53,
   "id": "31ae0ad7",
   "metadata": {},
   "outputs": [
    {
     "data": {
      "image/png": "[encoded data removed]",
      "text/plain": [
       "<Figure size 432x288 with 1 Axes>"
      ]
     },
     "metadata": {
      "needs_background": "light"
     },
     "output_type": "display_data"
    }
   ],
   "source": [
    "plt.plot(data['id'], data['month'])\n",
    "plt.show()"
   ]
  },
  {
   "cell_type": "code",
   "execution_count": 61,
   "id": "f7171792",
   "metadata": {},
   "outputs": [
    {
     "data": {
      "text/plain": [
       "Int64Index([1, 2, 3, 4, 5, 6, 7, 8, 9, 10, 11, 12], dtype='int64', name='month')"
      ]
     },
     "execution_count": 61,
     "metadata": {},
     "output_type": "execute_result"
    }
   ],
   "source": [
    "# Решил сгруппировать данные по значениям месяцев, потому что думал, что в сбое\n",
    "# дат есть видимая последовательность\n",
    "dt = data.groupby('month').paid.sum()\n",
    "dt.index"
   ]
  },
  {
   "cell_type": "code",
   "execution_count": 67,
   "id": "ca618d78",
   "metadata": {},
   "outputs": [
    {
     "data": {
      "image/png": "[encoded data removed]",
      "text/plain": [
       "<Figure size 432x288 with 1 Axes>"
      ]
     },
     "metadata": {
      "needs_background": "light"
     },
     "output_type": "display_data"
    }
   ],
   "source": [
    "plt.bar(dt.index, dt.values)\n",
    "plt.show()"
   ]
  },
  {
   "cell_type": "code",
   "execution_count": 12,
   "id": "94650d2e",
   "metadata": {},
   "outputs": [
    {
     "name": "stdout",
     "output_type": "stream",
     "text": [
      "     Month      Total\n",
      "0   январь  485487.84\n",
      "1  февраль  570192.91\n",
      "2     март  698723.40\n",
      "3   апрель  444834.87\n",
      "4      май  574488.89\n",
      "5     июнь  579810.45\n",
      "<class 'pandas.core.frame.DataFrame'>\n",
      "RangeIndex: 6 entries, 0 to 5\n",
      "Data columns (total 2 columns):\n",
      " #   Column  Non-Null Count  Dtype  \n",
      "---  ------  --------------  -----  \n",
      " 0   Month   6 non-null      object \n",
      " 1   Total   6 non-null      float64\n",
      "dtypes: float64(1), object(1)\n",
      "memory usage: 224.0+ bytes\n"
     ]
    }
   ],
   "source": [
    "# Загрузил данные месячного отчета, проверил типизацию данных\n",
    "report = pd.read_excel(name, usecols = [5,6], skiprows= 1, nrows = 6, names = ['Month', 'Total'])\n",
    "print(report)\n",
    "report.info()"
   ]
  },
  {
   "cell_type": "code",
   "execution_count": 13,
   "id": "9939d43e",
   "metadata": {},
   "outputs": [
    {
     "data": {
      "text/plain": [
       "True"
      ]
     },
     "execution_count": 13,
     "metadata": {},
     "output_type": "execute_result"
    }
   ],
   "source": [
    "# Предположил, что в исходной таблице данные расположены с сортировкой по \n",
    "# по реальным месяцам оплаты\n",
    "# Посчитал кумулятивную сумму, чтоб проверить, есть ли совпадение с месячным\n",
    "# отчетом за январь\n",
    "data_fixed = data.copy()\n",
    "data_fixed['cumsum'] = data_fixed['paid'].cumsum()\n",
    "any(data_fixed['cumsum'] == report.Total[0])\n"
   ]
  },
  {
   "cell_type": "code",
   "execution_count": 14,
   "id": "092be9d7",
   "metadata": {},
   "outputs": [],
   "source": [
    "# Определил номера столбцов, где кумулятивная сумма становится равной месячному\n",
    "# отчету для шести месяцев\n",
    "# Изменил значения столбца 'month' в соответствии с месячным отчетом\n",
    "k = [-1]\n",
    "for i in report.index:\n",
    "    data_fixed.loc[k[-1]+1:, 'cumsum'] = data_fixed.loc[k[-1]+1:,'paid'].cumsum().round(2)\n",
    "    sum_ind = data_fixed[data_fixed['cumsum'] == report.Total[i]].index[0]\n",
    "    k.append(sum_ind)\n",
    "    data_fixed.loc[k[-2]+1:k[-1], 'month'] = i+1\n"
   ]
  },
  {
   "cell_type": "code",
   "execution_count": 15,
   "id": "bcbad401",
   "metadata": {},
   "outputs": [
    {
     "data": {
      "text/plain": [
       "month\n",
       "1    485487.84\n",
       "2    570192.91\n",
       "3    698723.40\n",
       "4    444834.87\n",
       "5    574488.89\n",
       "6    579810.45\n",
       "Name: paid, dtype: float64"
      ]
     },
     "execution_count": 15,
     "metadata": {},
     "output_type": "execute_result"
    }
   ],
   "source": [
    "# Сгруппировал данные по месяцам для проверки соответствия месячному отчету\n",
    "data_fixed.groupby('month').paid.sum()"
   ]
  },
  {
   "cell_type": "code",
   "execution_count": 16,
   "id": "d1460d28",
   "metadata": {},
   "outputs": [],
   "source": [
    "# Переформировал и переименовал данные для формирования окончатеьлной таблицы\n",
    "# Создал CSV документ\n",
    "final_data = data_fixed[['id', 'month', 'paid']].rename(columns =  {'id': 'patient_id', 'month': 'report_month', 'paid': 'loss'})\n",
    "final_data.to_csv('Кайсаров_Илья.csv', index = False)"
   ]
  },
  {
   "cell_type": "code",
   "execution_count": 17,
   "id": "723d611e",
   "metadata": {},
   "outputs": [],
   "source": []
  },
  {
   "cell_type": "code",
   "execution_count": null,
   "id": "de601464",
   "metadata": {},
   "outputs": [],
   "source": []
  },
  {
   "cell_type": "code",
   "execution_count": null,
   "id": "648d4cd1",
   "metadata": {},
   "outputs": [],
   "source": []
  },
  {
   "cell_type": "code",
   "execution_count": null,
   "id": "4e5816bb",
   "metadata": {},
   "outputs": [],
   "source": []
  },
  {
   "cell_type": "code",
   "execution_count": null,
   "id": "760f1b3e",
   "metadata": {},
   "outputs": [],
   "source": []
  },
  {
   "cell_type": "code",
   "execution_count": null,
   "id": "a1b3c35d",
   "metadata": {},
   "outputs": [],
   "source": []
  }
 ],
 "metadata": {
  "kernelspec": {
   "display_name": "Python 3 (ipykernel)",
   "language": "python",
   "name": "python3"
  },
  "language_info": {
   "codemirror_mode": {
    "name": "ipython",
    "version": 3
   },
   "file_extension": ".py",
   "mimetype": "text/x-python",
   "name": "python",
   "nbconvert_exporter": "python",
   "pygments_lexer": "ipython3",
   "version": "3.8.8"
  }
 },
 "nbformat": 4,
 "nbformat_minor": 5
}
